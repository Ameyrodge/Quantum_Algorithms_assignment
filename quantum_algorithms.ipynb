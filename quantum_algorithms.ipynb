{
 "cells": [
  {
   "cell_type": "markdown",
   "metadata": {},
   "source": [
    "## Qiskit Assignment\n",
    "* Submitted by - Amey Rodge and Bashar Karaja (QuanTEEM M1)\n"
   ]
  },
  {
   "cell_type": "markdown",
   "metadata": {},
   "source": [
    "## Qiskit Session 2  - First Quantum Algorithms\n",
    "\n",
    "---\n",
    "\n",
    "\n",
    "\n",
    "In this last practical session you will run on quantum machine your first quantum algorithms by implementing the algorithms seen in class.\n",
    "\n",
    "<table style=\"background: white;\">\n",
    "    <tr style=\"background: white;\">\n",
    "        <td> <img src='img/quantum_computer.jpeg'  width=\"300px\" />    \n",
    "    </tr>\n",
    "</table>"
   ]
  },
  {
   "cell_type": "markdown",
   "metadata": {},
   "source": [
    "\n",
    "---\n",
    "## Get ready\n",
    "As usual one first  import Qiskit and the vizualisation tools\n",
    "```Python\n",
    "from qiskit import*\n",
    "%matplotlib inline\n",
    "from qiskit.tools.visualization import plot_histogram\n",
    "```\n",
    "And as well we load the simulator and the IBM account:\n",
    "\n",
    "```Python\n",
    "simulator=Aer.get_backend('qasm_simulator')\n",
    "IBMQ.load_account()\n",
    "provider=IBMQ.get_provider('ibm-q')\n",
    "qcomputer=provider.get_backend('ibm_brisbane')\n",
    "from qiskit.tools.monitor import job_monitor\n",
    "\n",
    "```\n",
    "   "
   ]
  },
  {
   "cell_type": "code",
   "execution_count": 1,
   "metadata": {
    "tags": []
   },
   "outputs": [
    {
     "name": "stderr",
     "output_type": "stream",
     "text": [
      "/var/folders/jy/bzqpqm_s0h95q19p_32y_4g80000gn/T/ipykernel_40106/603959491.py:5: DeprecationWarning: The package qiskit.providers.ibmq is being deprecated. Please see https://ibm.biz/provider_migration_guide to get instructions on how to migrate to qiskit-ibm-provider (https://github.com/Qiskit/qiskit-ibm-provider) and qiskit-ibm-runtime (https://github.com/Qiskit/qiskit-ibm-runtime).\n",
      "  IBMQ.save_account('2ca4e626b06434d8c412cfaa81a774cf1e19fd33e55a90efece4869e0d3b96a47bb530a334f9c0c1a9939bd56378533d35fffab3130dfc86dcf20bea2efac990')\n",
      "/var/folders/jy/bzqpqm_s0h95q19p_32y_4g80000gn/T/ipykernel_40106/603959491.py:5: DeprecationWarning: The qiskit.IBMQ entrypoint and the qiskit-ibmq-provider package (accessible from 'qiskit.providers.ibmq`) are deprecated and will be removed in a future release. Instead you should use the qiskit-ibm-provider package which is accessible from 'qiskit_ibm_provider'. You can install it with 'pip install qiskit_ibm_provider'. Just replace 'qiskit.IBMQ' with 'qiskit_ibm_provider.IBMProvider'\n",
      "  IBMQ.save_account('2ca4e626b06434d8c412cfaa81a774cf1e19fd33e55a90efece4869e0d3b96a47bb530a334f9c0c1a9939bd56378533d35fffab3130dfc86dcf20bea2efac990')\n",
      "configrc.store_credentials:WARNING:2024-02-04 00:15:24,153: Credentials already present. Set overwrite=True to overwrite.\n"
     ]
    }
   ],
   "source": [
    "from qiskit import*\n",
    "%matplotlib inline\n",
    "from qiskit.tools.visualization import plot_histogram\n",
    "simulator=Aer.get_backend('qasm_simulator')\n",
    "IBMQ.save_account('2ca4e626b06434d8c412cfaa81a774cf1e19fd33e55a90efece4869e0d3b96a47bb530a334f9c0c1a9939bd56378533d35fffab3130dfc86dcf20bea2efac990')\n",
    "IBMQ.load_account()\n",
    "provider=IBMQ.get_provider('ibm-q')\n",
    "qcomputer=provider.get_backend('ibm_brisbane')\n",
    "from qiskit.tools.monitor import job_monitor"
   ]
  },
  {
   "cell_type": "markdown",
   "metadata": {},
   "source": [
    "### Create an oracle\n",
    "\n",
    "We have seen in class that it is always possible to implement a classical function with a quantum computer. Here we are going to implement classical functions usefull to run the Deutsh and Deutsch-Josza algorithm.\n",
    "\n",
    "Consider the following circuit:\n",
    "\n",
    "<table style=\"background: white;\">\n",
    "    <tr style=\"background: white;\">\n",
    "        <td> <img src='img/deutsch_balanced1.svg'  width=\"300px\" />    \n",
    "    </tr>\n",
    "</table>\n",
    "\n",
    "Implement this circuit and check that it corresponds to a unitary gate $U_f$ such that $U_f|x_0x_2x_3>|y>=|x_0x_1x_2>|y\\oplus f(x_0,x_1,x_2)>$ where $f$ is a boolean function that satisfies:\n",
    "\n",
    "\n",
    "|$f(x_0,x_1,x_2)=0$| $f(x_0,x_1,x_2)=1$|\n",
    "|---|---|\n",
    "|$000$ |$111$|\n",
    "|$011$ |$100$|\n",
    "|$101$ |$010$|\n",
    "|$110$ |$001$|"
   ]
  },
  {
   "cell_type": "code",
   "execution_count": 2,
   "metadata": {
    "tags": []
   },
   "outputs": [
    {
     "name": "stderr",
     "output_type": "stream",
     "text": [
      "/Users/ameyrodge/anaconda3/lib/python3.11/site-packages/qiskit/visualization/circuit/matplotlib.py:266: FutureWarning: The default matplotlib drawer scheme will be changed to \"iqp\" in a following release. To silence this warning, specify the current default explicitly as style=\"clifford\", or the new default as style=\"iqp\".\n",
      "  self._style, def_font_ratio = load_style(self._style)\n"
     ]
    },
    {
     "data": {
      "image/png": "[encoded data removed]",
      "text/plain": [
       "<Figure size 389.136x367.889 with 1 Axes>"
      ]
     },
     "execution_count": 2,
     "metadata": {},
     "output_type": "execute_result"
    }
   ],
   "source": [
    "from qiskit import QuantumRegister, ClassicalRegister, QuantumCircuit\n",
    "q=QuantumRegister(4)\n",
    "qc=QuantumCircuit(q)\n",
    "qc.cx(q[0],q[3])\n",
    "qc.cx(q[1],q[3])\n",
    "qc.cx(q[2],q[3])\n",
    "qc.draw('mpl')"
   ]
  },
  {
   "cell_type": "markdown",
   "metadata": {},
   "source": [
    "Modify the previous circuit to create an other oracle $U_f$ that is defined by\n",
    "\n",
    "|$f(x_0,x_1,x_2)=0$| $f(x_0,x_1,x_2)=1$|\n",
    "|---|---|\n",
    "|$010$ |$101$|\n",
    "|$011$ |$100$|\n",
    "|$111$ |$000$|\n",
    "|$110$ |$001$|"
   ]
  },
  {
   "cell_type": "markdown",
   "metadata": {},
   "source": [
    "What would be an oracle for a constant function $f(x_0,\\dots,x_n)=k$ with $k\\in\\{0,1\\}$ ?"
   ]
  },
  {
   "cell_type": "code",
   "execution_count": 4,
   "metadata": {
    "tags": []
   },
   "outputs": [],
   "source": [
    "import random\n",
    "def oracle():\n",
    "    type = random.choice([\"constant\", \"balanced\"])\n",
    "    result = QuantumCircuit(2)\n",
    "    result.barrier()\n",
    "    \n",
    "    if type == \"constant\":\n",
    "        # ignore the input and randomly add a not gate\n",
    "        if random.randrange(2) == 0:\n",
    "            result.x(1)\n",
    "    elif type == \"balanced\":\n",
    "        # making sure the output is balanced\n",
    "        result.cx(0, 1)\n",
    "        # and randomly inverting it\n",
    "        if random.randrange(2) == 0:\n",
    "            result.x(1)\n",
    "    \n",
    "    result.barrier()\n",
    "    return result\n",
    "oracle_circuit =oracle()"
   ]
  },
  {
   "cell_type": "markdown",
   "metadata": {},
   "source": [
    "## Deutsch-Josza\n",
    "\n",
    "Recall the circuit of the Deutsch-Josza algorithm that generalizes Deutsch algorithm\n",
    "\n",
    "<table style=\"background: white;\">\n",
    "    <tr style=\"background: white;\">\n",
    "        <td> <img src='img/deutsch_steps.png'  width=\"400px\" />    \n",
    "    </tr>\n",
    "</table>\n",
    "\n",
    "Define a constant oracle $U_{f_1}$ and a balanced oracle $U_{f_2}$ of your choice and check on your example the validity of Deutsch-Josza's algorithm."
   ]
  },
  {
   "cell_type": "markdown",
   "metadata": {},
   "source": [
    "non-zero string ---> balanced function\n",
    "zero string -------> costatant function"
   ]
  },
  {
   "cell_type": "code",
   "execution_count": 5,
   "metadata": {
    "tags": []
   },
   "outputs": [
    {
     "data": {
      "image/png": "[encoded data removed]",
      "text/plain": [
       "<Figure size 956.385x535.111 with 1 Axes>"
      ]
     },
     "execution_count": 5,
     "metadata": {},
     "output_type": "execute_result"
    }
   ],
   "source": [
    "# Building oracle for Deutch-Josza algorithm\n",
    "def oraclej(n):\n",
    "    result = QuantumCircuit(n+1)\n",
    "    result.barrier()\n",
    "    \n",
    "    type = random.choice([\"constant\", \"balanced\"])\n",
    "    if type == \"constant\":\n",
    "        # ignore the input and randomly add a not gate\n",
    "        if random.randrange(2) == 0:\n",
    "            result.x(n)\n",
    "    else:\n",
    "        # we can add cnot to the circuit to have a balanced function\n",
    "        control = random.randrange(n)\n",
    "        result.cx(control, n)\n",
    "        # randomly invert the result\n",
    "        if random.randrange(2) == 0:\n",
    "            result.x(n)\n",
    "    \n",
    "    result.barrier()\n",
    "    return result\n",
    "\n",
    "from qiskit import QuantumCircuit, execute, Aer\n",
    "dj_circuit=QuantumCircuit(5,4)\n",
    "dj_circuit.x(4)\n",
    "dj_circuit.h(range(5))\n",
    "dj_circuit.compose(oraclej(4),inplace=True)\n",
    "dj_circuit.h(range(4))\n",
    "dj_circuit.measure(range(4),range(4))\n",
    "dj_circuit.draw('mpl')"
   ]
  },
  {
   "cell_type": "code",
   "execution_count": 6,
   "metadata": {
    "tags": []
   },
   "outputs": [
    {
     "name": "stdout",
     "output_type": "stream",
     "text": [
      "{'0000': 10000}\n"
     ]
    }
   ],
   "source": [
    "job = execute(dj_circuit, Aer.get_backend('qasm_simulator'),shots=10000)\n",
    "counts = job.result().get_counts()\n",
    "print(counts)"
   ]
  },
  {
   "cell_type": "markdown",
   "metadata": {},
   "source": [
    "## Bernstein-Vazirani\n",
    "\n",
    "Bernstein-Vazirani algorithm is an algorithm that solve the following problem:\n",
    "Let $u=u_{n-1}\\dots u_0\\in \\{0,1\\}^n$ an unknown $n$-bits string. Suppose you have a classical function $f:\\{0,1\\}^n\\to \\{0,1\\}$ which calculates $f_u(x)=x.u [2]$ where $x.u$ is the usual inner product between $n$-bits strings, i.e. $x=x_{n-1}\\dots x_0$ and $$x.u=x_0u_0+x_1u_1+\\dots+x_{n-1}u_{n-1}$$\n",
    "\n",
    "The goal of Bernstein-Vazirani's algorithm is to find $u$.\n",
    "\n",
    "Recall that classically you can find $u$ by testing $n$ values $x\\in \\{0,1\\}^n$. Bernstein-Vazirani's algorithm solves the problem by using only once the function $f$."
   ]
  },
  {
   "cell_type": "markdown",
   "metadata": {},
   "source": [
    "### Implementing the function $f_u$\n",
    "\n",
    "Show that the following circuit implements on the function $f_u$ with $u=1101$.\n",
    "\n",
    "<table style=\"background: white;\">\n",
    "    <tr style=\"background: white;\">\n",
    "        <td> <img src='img/vaziraniu.png'  width=\"330px\" />    \n",
    "    </tr>\n",
    "</table>\n",
    "\n",
    "Implement a circuit that corresponds to the function $f_u$ with $u=1010101$.\n"
   ]
  },
  {
   "cell_type": "code",
   "execution_count": 7,
   "metadata": {
    "tags": []
   },
   "outputs": [
    {
     "data": {
      "image/png": "[encoded data removed]",
      "text/plain": [
       "<Figure size 723.783x785.944 with 1 Axes>"
      ]
     },
     "execution_count": 7,
     "metadata": {},
     "output_type": "execute_result"
    }
   ],
   "source": [
    "q=QuantumRegister(8)\n",
    "c=ClassicalRegister(2)\n",
    "qc=QuantumCircuit(q,c)\n",
    "qc.cx(q[0],q[7])\n",
    "qc.barrier()\n",
    "qc.cx(q[2],q[7])\n",
    "qc.barrier()\n",
    "qc.cx(q[4],q[7])\n",
    "qc.barrier()\n",
    "qc.cx(q[6],q[7])\n",
    "qc.draw('mpl')\n"
   ]
  },
  {
   "cell_type": "markdown",
   "metadata": {},
   "source": [
    "Write a Python function that given $u=u_{n-1}\\dots u_0$ will creates the Quantum Circuit implementing the gate $U_{f_u}$. \n",
    "\n",
    "You can use define $u$ as a sting $u='u_{n-1}\\dots u_0'$ and use the Python command: \n",
    "```Python \n",
    "enumerate\n",
    "```"
   ]
  },
  {
   "cell_type": "markdown",
   "metadata": {},
   "source": [
    "\n"
   ]
  },
  {
   "cell_type": "markdown",
   "metadata": {},
   "source": [
    "### Bernstein-Vazirani Circuit\n",
    "\n",
    "Here is the circuit of Benrstein-Vazirani's algorithm that allows you to find $u$ by only computing once the function $f_u$.\n",
    "\n",
    "<table style=\"background: white;\">\n",
    "    <tr style=\"background: white;\">\n",
    "        <td> <img src='img/vazirani.png'  width=\"330px\" />    \n",
    "    </tr>\n",
    "</table>\n",
    "\n",
    "\n",
    "Implement Bernstein-Vazirani's algorithm such as, the function $f_u$ is defined by the choice of $u=u_{n-1}\\dots u_0$ made by the user and the circuit and measurementsof the circuit are automatically created from the knowledge of $u$.\n",
    "\n",
    "Test your algorithm on the simulator."
   ]
  },
  {
   "cell_type": "code",
   "execution_count": 8,
   "metadata": {
    "tags": []
   },
   "outputs": [
    {
     "data": {
      "image/png": "[encoded data removed]",
      "text/plain": [
       "<Figure size 1458.05x785.944 with 1 Axes>"
      ]
     },
     "execution_count": 8,
     "metadata": {},
     "output_type": "execute_result"
    }
   ],
   "source": [
    "def bv_oracle():\n",
    "    u=\"1010101\"\n",
    "    n = len(u)\n",
    "    u = u[::-1] # we revert the string since u_0 is at the left according to python \n",
    "    # and in the right according to qiskit\n",
    "    \n",
    "    circuit = QuantumCircuit(n+1)\n",
    "    circuit.barrier()\n",
    "    \n",
    "    for i in range(n):\n",
    "        if u[i] == '1':\n",
    "            circuit.cx(i, n)\n",
    "    \n",
    "    circuit.barrier()\n",
    "    return circuit\n",
    "from qiskit import QuantumCircuit, execute, Aer\n",
    "\n",
    "n=7  \n",
    "bv_circuit = QuantumCircuit(n+1, n)\n",
    "#Apply X gate to last qubit\n",
    "bv_circuit.x(n)\n",
    "#Apply Hadamard to all qubits\n",
    "bv_circuit.h(range(n+1))\n",
    "#Apply oracle\n",
    "bv_circuit.compose(bv_oracle(), inplace=True)\n",
    "#Apply Hadamard to all qubits\n",
    "bv_circuit.h(range(n))\n",
    "bv_circuit.measure(range(n), range(n))\n",
    "#Draw the circuit\n",
    "bv_circuit.draw(output=\"mpl\")\n"
   ]
  },
  {
   "cell_type": "code",
   "execution_count": 9,
   "metadata": {
    "tags": []
   },
   "outputs": [
    {
     "name": "stdout",
     "output_type": "stream",
     "text": [
      "1010101 is observed 10000 times\n"
     ]
    }
   ],
   "source": [
    "job = execute(bv_circuit, Aer.get_backend('qasm_simulator'),shots=10000)\n",
    "counts = job.result().get_counts()\n",
    "for outcome in counts:\n",
    "    reverse_outcome = ''\n",
    "    for i in outcome:\n",
    "        reverse_outcome = i + reverse_outcome\n",
    "    print(reverse_outcome,\"is observed\",counts[outcome],\"times\")"
   ]
  },
  {
   "cell_type": "markdown",
   "metadata": {},
   "source": [
    "Test your code on a real quantum device."
   ]
  },
  {
   "cell_type": "code",
   "execution_count": 10,
   "metadata": {
    "tags": []
   },
   "outputs": [],
   "source": [
    "#from qiskit import IBMQ\n",
    "#IBMQ.save_account('2ca4e626b06434d8c412cfaa81a774cf1e19fd33e55a90efece4869e0d3b96a47bb530a334f9c0c1a9939bd56378533d35fffab3130dfc86dcf20bea2efac990')\n",
    "#IBMQ.load_account()\n",
    "#provider=IBMQ.get_provider('ibm-q')\n",
    "#qcomputer=provider.get_backend('ibm_brisbane')\n",
    "#job=execute(bv_circuit,backend=qcomputer)\n",
    "#from qiskit.tools.monitor import job_monitor\n",
    "#job_monitor(job)"
   ]
  },
  {
   "cell_type": "code",
   "execution_count": 11,
   "metadata": {
    "tags": []
   },
   "outputs": [
    {
     "data": {
      "image/png": "[encoded data removed]",
      "text/plain": [
       "<Figure size 700x500 with 1 Axes>"
      ]
     },
     "execution_count": 11,
     "metadata": {},
     "output_type": "execute_result"
    }
   ],
   "source": [
    "job= provider.backend.retrieve_job('cpy13sqd2f40008726c0')\n",
    "result=job.result()\n",
    "plot_histogram(result.get_counts(bv_circuit))"
   ]
  },
  {
   "cell_type": "markdown",
   "metadata": {},
   "source": [
    "## Grover's algorithm\n",
    "\n",
    "Grover's algorithm is based on two gates, the oracle and the diffusion gate.\n",
    "We will implement Grover's algorithm for a three-qubit system.\n",
    "\n",
    "\n",
    "### The oracle\n",
    "\n",
    "Consider the following circuit:\n",
    "\n",
    "\n",
    "<table style=\"background: white;\">\n",
    "    <tr style=\"background: white;\">\n",
    "        <td> <img src='img/oracle_3qbt.png'  width=\"330px\" />    \n",
    "    </tr>\n",
    "</table>\n",
    "\n",
    "Check that this oracle signs the element $|111>$.\n",
    "How can you modify if so it signs the element $|101>$ ?"
   ]
  },
  {
   "cell_type": "code",
   "execution_count": 12,
   "metadata": {},
   "outputs": [
    {
     "data": {
      "image/png": "[encoded data removed]",
      "text/plain": [
       "<Figure size 203.885x284.278 with 1 Axes>"
      ]
     },
     "execution_count": 12,
     "metadata": {},
     "output_type": "execute_result"
    }
   ],
   "source": [
    "from qiskit import *\n",
    "import matplotlib.pyplot as plt\n",
    "import numpy as np\n",
    "\n",
    "\n",
    "# define the Oracle circuit\n",
    "oracle=QuantumCircuit(3,name='Oracle')\n",
    "# to marrk the |111> state we can use a ccZ gate:\n",
    "#oracle.h(2)\n",
    "oracle.ccz(0,1,2)\n",
    "#oracle.h(2)\n",
    "oracle.draw('mpl')\n"
   ]
  },
  {
   "cell_type": "code",
   "execution_count": 13,
   "metadata": {},
   "outputs": [],
   "source": [
    "## check if the oracle is working:\n",
    "#IBMQ.save_account('320833fdbdd2d07f3d2b3dc4c7e34fdf5e87e6b155f16096d276fafb4bfa15c7216c13595a25dfa7d75d9350e04e096d004e76f50c29028062c9612e21e19140')\n",
    "#IBMQ.load_account()\n",
    "#provider=IBMQ.get_provider('ibm-q')\n",
    "#qcomputer=provider.get_backend('ibm_osaka')"
   ]
  },
  {
   "cell_type": "code",
   "execution_count": 14,
   "metadata": {},
   "outputs": [
    {
     "data": {
      "image/png": "[encoded data removed]",
      "text/plain": [
       "<Figure size 371.107x367.889 with 1 Axes>"
      ]
     },
     "execution_count": 14,
     "metadata": {},
     "output_type": "execute_result"
    }
   ],
   "source": [
    "backend=Aer.get_backend('statevector_simulator')\n",
    "grover_circuit=QuantumCircuit(3,3)\n",
    "grover_circuit.h([0,1,2])\n",
    "grover_circuit.append(oracle,[0,1,2])\n",
    "grover_circuit.draw('mpl')"
   ]
  },
  {
   "cell_type": "code",
   "execution_count": 15,
   "metadata": {},
   "outputs": [
    {
     "data": {
      "text/plain": [
       "array([ 0.35+0.j,  0.35+0.j,  0.35+0.j,  0.35-0.j,  0.35+0.j,  0.35+0.j,\n",
       "        0.35+0.j, -0.35+0.j])"
      ]
     },
     "execution_count": 15,
     "metadata": {},
     "output_type": "execute_result"
    }
   ],
   "source": [
    "job=execute(grover_circuit,backend)\n",
    "result=job.result()\n",
    "\n",
    "sv= result.get_statevector()\n",
    "np.around(sv,2)\n",
    "\n",
    "# notice that this ciruit give the last state |111> as -|111> , which is what the oracle do\n"
   ]
  },
  {
   "cell_type": "code",
   "execution_count": 16,
   "metadata": {},
   "outputs": [
    {
     "data": {
      "text/plain": [
       "array([ 0.35+0.j,  0.35+0.j,  0.35+0.j,  0.35-0.j,  0.35+0.j, -0.35+0.j,\n",
       "        0.35+0.j,  0.35+0.j])"
      ]
     },
     "execution_count": 16,
     "metadata": {},
     "output_type": "execute_result"
    }
   ],
   "source": [
    "# to make the oracle sign the stae |101> instead of |111>, we can add a ccx gate as follows:\n",
    "# define the Oracle circuit\n",
    "\n",
    "oracle=QuantumCircuit(3,name='Oracle')\n",
    "# to marrk the |111> state we can use a ccZ gate:\n",
    "#oracle.h(2)\n",
    "oracle.ccz(0,1,2)\n",
    "oracle.ccx(0,2,1)\n",
    "#oracle.h(2)\n",
    "oracle.draw('mpl')\n",
    "\n",
    "backend=Aer.get_backend('statevector_simulator')\n",
    "grover_circuit=QuantumCircuit(3,3)\n",
    "grover_circuit.h([0,1,2])\n",
    "grover_circuit.append(oracle,[0,1,2])\n",
    "grover_circuit.draw('mpl')\n",
    "job=execute(grover_circuit,backend)\n",
    "result=job.result()\n",
    "\n",
    "sv= result.get_statevector()\n",
    "np.around(sv,2)\n",
    "\n",
    "# notice that this ciruit give the last state |101> as -|101>\n"
   ]
  },
  {
   "cell_type": "markdown",
   "metadata": {},
   "source": [
    "### Implement Grover algorithm\n",
    "\n",
    "Based on the previous question, implement grover's algorithm for $x_0=|101>$ and run it on the simulator and the IBM Quantum Experience"
   ]
  },
  {
   "cell_type": "code",
   "execution_count": 17,
   "metadata": {},
   "outputs": [
    {
     "data": {
      "image/png": "[encoded data removed]",
      "text/plain": [
       "<Figure size 287.496x284.278 with 1 Axes>"
      ]
     },
     "execution_count": 17,
     "metadata": {},
     "output_type": "execute_result"
    }
   ],
   "source": [
    "\n",
    "# define the Oracle circuit\n",
    "oracle=QuantumCircuit(3,name='Oracle')\n",
    "# to marrk the |111> state we can use a ccZ gate:\n",
    "\n",
    "oracle.ccz(0,1,2)\n",
    "oracle.ccx(0,2,1) # to mark |101>\n",
    "oracle.draw('mpl')\n"
   ]
  },
  {
   "cell_type": "code",
   "execution_count": 18,
   "metadata": {},
   "outputs": [
    {
     "data": {
      "image/png": "[encoded data removed]",
      "text/plain": [
       "<Figure size 371.107x367.889 with 1 Axes>"
      ]
     },
     "execution_count": 18,
     "metadata": {},
     "output_type": "execute_result"
    }
   ],
   "source": [
    "\n",
    "backend=Aer.get_backend('statevector_simulator')\n",
    "grover_circuit=QuantumCircuit(3,3)\n",
    "grover_circuit.h([0,1,2])\n",
    "grover_circuit.append(oracle,[0,1,2])\n",
    "grover_circuit.draw('mpl')\n"
   ]
  },
  {
   "cell_type": "code",
   "execution_count": 19,
   "metadata": {},
   "outputs": [
    {
     "data": {
      "text/plain": [
       "{'110': 29,\n",
       " '001': 28,\n",
       " '100': 22,\n",
       " '000': 41,\n",
       " '010': 30,\n",
       " '111': 33,\n",
       " '011': 26,\n",
       " '101': 815}"
      ]
     },
     "execution_count": 19,
     "metadata": {},
     "output_type": "execute_result"
    }
   ],
   "source": [
    "job=execute(grover_circuit,backend)\n",
    "result=job.result()\n",
    "\n",
    "sv= result.get_statevector()\n",
    "\n",
    "\n",
    "# amplitude amplification:\n",
    "reflection = QuantumCircuit(3,name='reflection')\n",
    "reflection.h([0,1,2])\n",
    "reflection.x([0,1,2])\n",
    "reflection.ccz(0,1,2)\n",
    "reflection.h([0,1,2])\n",
    "reflection.to_gate()\n",
    "\n",
    "reflection.draw('mpl')\n",
    "\n",
    "backend=Aer.get_backend('qasm_simulator')\n",
    "grover_circuit=QuantumCircuit(3,3)\n",
    "grover_circuit.h([0,1,2])\n",
    "grover_circuit.append(oracle,[0,1,2])\n",
    "grover_circuit.append(reflection,[0,1,2])\n",
    "grover_circuit.measure([0,1,2],[0,1,2])\n",
    "grover_circuit.draw('mpl')\n",
    "\n",
    "job=execute(grover_circuit,backend,shot=1)\n",
    "result=job.result()\n",
    "result.get_counts()"
   ]
  },
  {
   "cell_type": "code",
   "execution_count": 20,
   "metadata": {
    "tags": []
   },
   "outputs": [],
   "source": [
    "#from qiskit import IBMQ\n",
    "#IBMQ.save_account('2ca4e626b06434d8c412cfaa81a774cf1e19fd33e55a90efece4869e0d3b96a47bb530a334f9c0c1a9939bd56378533d35fffab3130dfc86dcf20bea2efac990')\n",
    "#IBMQ.load_account()\n",
    "#provider=IBMQ.get_provider('ibm-q')\n",
    "#qcomputer=provider.get_backend('ibm_brisbane')\n",
    "#job=execute(grover_circuit,backend=qcomputer)\n",
    "#from qiskit.tools.monitor import job_monitor\n",
    "#job_monitor(job)"
   ]
  },
  {
   "cell_type": "code",
   "execution_count": 22,
   "metadata": {
    "tags": []
   },
   "outputs": [
    {
     "data": {
      "image/png": "[encoded data removed]",
      "text/plain": [
       "<Figure size 700x500 with 1 Axes>"
      ]
     },
     "execution_count": 22,
     "metadata": {},
     "output_type": "execute_result"
    }
   ],
   "source": [
    "job= provider.backend.retrieve_job('cpynfvzsrbv0008gch4g')\n",
    "result=job.result()\n",
    "plot_histogram(result.get_counts(grover_circuit))"
   ]
  },
  {
   "cell_type": "markdown",
   "metadata": {},
   "source": [
    "## Exercises\n",
    "\n",
    "### Exercise 1\n",
    "\n",
    "Write a Qiksit Script that implement Grover's algorithm for a given 3 qubit states $|x_2x_1x_0>$.\n",
    "\n",
    "### Exercise 2\n",
    "\n",
    "How would you implement Grover's algorithm for 4 qubits ?\n"
   ]
  },
  {
   "cell_type": "code",
   "execution_count": 23,
   "metadata": {
    "tags": []
   },
   "outputs": [],
   "source": [
    "# excerice 1:\n",
    "\n",
    "from qiskit import *\n",
    "import matplotlib.pyplot as plt\n",
    "import numpy as np\n",
    "\n",
    "# this function will be used as an oracle that we can call to marke the desired state we want for 3 qbits states\n",
    "# it takes two arguments: the oracle initialized and the state we want to mark\n",
    "# the output of the function will return back an oracle that marke the specified state.\n",
    "def oracle_3q(oracle, state):\n",
    "    q0=state[0]\n",
    "    q1=state[1]\n",
    "    q2=state[2]\n",
    "    if q0==1  :\n",
    "        if q1==1:\n",
    "            if q2==1:\n",
    "                oracle.ccz(0,1,2) # |111>\n",
    "            else:# q2=0:\n",
    "                oracle.ccz(0,1,2)\n",
    "                oracle.ccx(1,2,0)\n",
    "                                  # |110>\n",
    "        else: #q1=0\n",
    "            if q2==1:\n",
    "                oracle.ccz(0,1,2)\n",
    "                oracle.ccx(0,2,1) # |101>\n",
    "            else: # q2=0\n",
    "                oracle.ccz(0,1,2)\n",
    "                oracle.ccx(1,2,0)\n",
    "                oracle.x(1)       # 100\n",
    "    else:\n",
    "        if q1==1:\n",
    "            if q2==1: # 011\n",
    "                oracle.ccz(0,1,2)\n",
    "                oracle.cx(0,2)\n",
    "                oracle.ccx(1,2,0) \n",
    "\n",
    "                \n",
    "            else: #010\n",
    "                oracle.ccz(0,1,2)\n",
    "                oracle.cx(0,1)\n",
    "                oracle.x([0,2])\n",
    "                oracle.x(1)\n",
    "        else:\n",
    "            if q2==1: # 001\n",
    "                oracle.ccz(0,1,2)\n",
    "                oracle.cx(0,1)\n",
    "                oracle.cx(0,2)\n",
    "                \n",
    "            else: #000\n",
    "                oracle.ccz(0,1,2)\n",
    "                oracle.cx(0,1)\n",
    "                oracle.x([0,2])\n",
    "                \n",
    "    return oracle"
   ]
  },
  {
   "cell_type": "code",
   "execution_count": 24,
   "metadata": {
    "tags": []
   },
   "outputs": [
    {
     "data": {
      "image/png": "[encoded data removed]",
      "text/plain": [
       "<Figure size 371.107x367.889 with 1 Axes>"
      ]
     },
     "execution_count": 24,
     "metadata": {},
     "output_type": "execute_result"
    }
   ],
   "source": [
    "state=[1,0,0] #define the desired state to be marked\n",
    "\n",
    "backend=Aer.get_backend('statevector_simulator') # create the backend\n",
    "grover_circuit=QuantumCircuit(3,3) # initialize the grovers cicuit\n",
    "grover_circuit.h([0,1,2])\n",
    "g_orac=QuantumCircuit(3) # initialize the oracle\n",
    "oracle=oracle_3q(g_orac,state) # call the oracle function to mark the state\n",
    "grover_circuit.append(oracle,[0,1,2]) # append it to the grovers circuit\n",
    "grover_circuit.draw('mpl')\n",
    "\n",
    "\n"
   ]
  },
  {
   "cell_type": "code",
   "execution_count": 25,
   "metadata": {
    "tags": []
   },
   "outputs": [],
   "source": [
    "job=execute(grover_circuit,backend) \n",
    "result=job.result() # to get results"
   ]
  },
  {
   "cell_type": "code",
   "execution_count": 26,
   "metadata": {
    "tags": []
   },
   "outputs": [
    {
     "data": {
      "text/plain": [
       "array([ 0.35+0.j,  0.35-0.j,  0.35+0.j,  0.35+0.j, -0.35+0.j,  0.35+0.j,\n",
       "        0.35+0.j,  0.35+0.j])"
      ]
     },
     "execution_count": 26,
     "metadata": {},
     "output_type": "execute_result"
    }
   ],
   "source": [
    "sv= result.get_statevector() # get the vector states of each state\n",
    "np.around(sv,2) # rounding the vector states\n",
    "\n",
    "# notice that this ciruit give the last state |111> as -|111> , which is what the oracle do"
   ]
  },
  {
   "cell_type": "code",
   "execution_count": 27,
   "metadata": {
    "tags": []
   },
   "outputs": [
    {
     "data": {
      "image/png": "[encoded data removed]",
      "text/plain": [
       "<Figure size 454.719x284.278 with 1 Axes>"
      ]
     },
     "execution_count": 27,
     "metadata": {},
     "output_type": "execute_result"
    }
   ],
   "source": [
    "# amplitude amplification:\n",
    "reflection = QuantumCircuit(3,name='reflection') \n",
    "reflection.h([0,1,2])\n",
    "reflection.x([0,1,2])\n",
    "reflection.ccz(0,1,2)\n",
    "reflection.h([0,1,2])\n",
    "reflection.to_gate()\n",
    "reflection.draw('mpl')"
   ]
  },
  {
   "cell_type": "code",
   "execution_count": 28,
   "metadata": {
    "tags": []
   },
   "outputs": [
    {
     "data": {
      "image/png": "[encoded data removed]",
      "text/plain": [
       "<Figure size 789.163x367.889 with 1 Axes>"
      ]
     },
     "execution_count": 28,
     "metadata": {},
     "output_type": "execute_result"
    }
   ],
   "source": [
    "backend=Aer.get_backend('qasm_simulator')\n",
    "grover_circuit=QuantumCircuit(3,3)\n",
    "grover_circuit.h([0,1,2])\n",
    "g_orac=QuantumCircuit(3,name='Oracle')\n",
    "oracle=oracle_3q(g_orac,state)\n",
    "grover_circuit.append(oracle,[0,1,2])\n",
    "grover_circuit.append(reflection,[0,1,2])\n",
    "grover_circuit.measure([0,1,2],[0,1,2])\n",
    "grover_circuit.draw('mpl')"
   ]
  },
  {
   "cell_type": "code",
   "execution_count": 29,
   "metadata": {
    "tags": []
   },
   "outputs": [
    {
     "data": {
      "text/plain": [
       "{'000': 32,\n",
       " '010': 34,\n",
       " '100': 792,\n",
       " '001': 28,\n",
       " '110': 33,\n",
       " '111': 37,\n",
       " '011': 29,\n",
       " '101': 39}"
      ]
     },
     "execution_count": 29,
     "metadata": {},
     "output_type": "execute_result"
    }
   ],
   "source": [
    "job=execute(grover_circuit,backend,shot=1)\n",
    "result=job.result()\n",
    "result.get_counts()"
   ]
  },
  {
   "cell_type": "markdown",
   "metadata": {},
   "source": [
    "### 4-Qubit case"
   ]
  },
  {
   "cell_type": "code",
   "execution_count": 30,
   "metadata": {
    "tags": []
   },
   "outputs": [],
   "source": [
    "# this function will be used as an oracle that we can call to marke the desired state we want for 4 qbits states\n",
    "# it takes two arguments: the oracle initialized and the state we want to mark\n",
    "# the output of the function will return back an oracle that marke the specified state.\n",
    "\n",
    "def oracle_4q(oracle,state):\n",
    "    q0=state[0]\n",
    "    q1=state[1]\n",
    "    q2=state[2]\n",
    "    q3=state[3]\n",
    "    if q0==1:\n",
    "        if q1==1:\n",
    "            if q2==1:\n",
    "                if q3==1: #1111\n",
    "                    \n",
    "                    oracle.h(3)  # H on target qubit\n",
    "                    oracle.mcx([0, 1, 2], 3, mode='noancilla')\n",
    "                    oracle.h(3)  # again H on target qubit\n",
    "                    \n",
    "                    \n",
    "                else:     #1110\n",
    "                    \n",
    "                    oracle.h(3)  # H on target qubit\n",
    "                    oracle.mcx([0, 1, 2], 3, mode='noancilla')\n",
    "                    oracle.h(3)  # again H on target qubit\n",
    "                    oracle.barrier()\n",
    "                    oracle.x(0)\n",
    "\n",
    "\n",
    "                    \n",
    "            \n",
    "            else:\n",
    "                if q3==1: #1101\n",
    "                    oracle.h(3)  # H on target qubit\n",
    "                    oracle.mcx([0, 1, 2], 3, mode='noancilla')\n",
    "                    oracle.h(3)  # again H on target qubit\n",
    "                    oracle.x(1)\n",
    "                    \n",
    "                else:     #1100\n",
    "                    oracle.h(3)  # H on target qubit\n",
    "                    oracle.mcx([0, 1, 2], 3, mode='noancilla')\n",
    "                    oracle.h(3)  # again H on target qubit\n",
    "                    oracle.x(0)\n",
    "                    oracle.x(1)\n",
    "            \n",
    "            \n",
    "        else:\n",
    "            if q2==1: \n",
    "                if q3==1: #1011\n",
    "                    \n",
    "                    oracle.h(3)  # H on target qubit\n",
    "                    oracle.mcx([0, 1, 2], 3, mode='noancilla')\n",
    "                    oracle.h(3)  # again H on target qubit\n",
    "                    oracle.x(2)\n",
    "                \n",
    "                else:     # 1010\n",
    "                    oracle.h(3)  # H on target qubit\n",
    "                    oracle.mcx([0, 1, 2], 3, mode='noancilla')\n",
    "                    oracle.h(3)  # again H on target qubit\n",
    "                    oracle.x(0)\n",
    "                    oracle.x(2)\n",
    "            else:     \n",
    "                if q3==1: # 1001\n",
    "                    oracle.h(3)  # H on target qubit\n",
    "                    oracle.mcx([0, 1, 2], 3, mode='noancilla')\n",
    "                    oracle.h(3)  # again H on target qubit\n",
    "                    oracle.x(2)\n",
    "                    oracle.x(1)\n",
    "                \n",
    "                else:     #1000\n",
    "                    oracle.h(3)  # H on target qubit\n",
    "                    oracle.mcx([0, 1, 2], 3, mode='noancilla')\n",
    "                    oracle.h(3)  # again H on target qubit\n",
    "                    oracle.x(0)\n",
    "                    oracle.x(1)\n",
    "                    oracle.x(2)\n",
    "    \n",
    "    else:\n",
    "        if q1==1:\n",
    "            if q2==1:\n",
    "                if q3==1: #0111\n",
    "                    oracle.h(3)  # H on target qubit\n",
    "                    oracle.mcx([0, 1, 2], 3, mode='noancilla')\n",
    "                    oracle.h(3)  # again H on target qubit\n",
    "                    oracle.x(3)\n",
    "                    \n",
    "                else:     #0110\n",
    "                    oracle.h(3)  # H on target qubit\n",
    "                    oracle.mcx([0, 1, 2], 3, mode='noancilla')\n",
    "                    oracle.h(3)  # again H on target qubit\n",
    "                    oracle.x(0)\n",
    "                    oracle.x(3)\n",
    "            else:\n",
    "                if q3==1: #0101\n",
    "                    oracle.h(3)  # H on target qubit\n",
    "                    oracle.mcx([0, 1, 2], 3, mode='noancilla')\n",
    "                    oracle.h(3)  # again H on target qubit\n",
    "                    oracle.x(3)\n",
    "                    oracle.x(1)\n",
    "                    \n",
    "                else:     #0100\n",
    "                    oracle.h(3)  # H on target qubit\n",
    "                    oracle.mcx([0, 1, 2], 3, mode='noancilla')\n",
    "                    oracle.h(3)  # again H on target qubit\n",
    "                    oracle.x(3)\n",
    "                    oracle.x(0)\n",
    "                    oracle.x(1)\n",
    "        else:\n",
    "            if q2==1: \n",
    "                if q3==1:  #0011\n",
    "                    oracle.h(3)  # H on target qubit\n",
    "                    oracle.mcx([0, 1, 2], 3, mode='noancilla')\n",
    "                    oracle.h(3)  # again H on target qubit\n",
    "                    oracle.x(2)\n",
    "                    oracle.x(3)\n",
    "                    \n",
    "                else:     #0010\n",
    "                    job=execute(grover_circuit,backend,shot=1)\n",
    "                    result=job.result()\n",
    "                    result.get_counts()\n",
    "            else:    \n",
    "                if q3==1: #0001\n",
    "                    oracle.h(3)  # H on target qubit\n",
    "                    oracle.mcx([0, 1, 2], 3, mode='noancilla')\n",
    "                    oracle.h(3)  # again H on target qubit\n",
    "                    oracle.x(2)\n",
    "                    oracle.x(1)\n",
    "                    oracle.x(3)\n",
    "                    \n",
    "                else:     #0000\n",
    "                    oracle.h(3)  # H on target qubit\n",
    "                    oracle.mcx([0, 1, 2], 3, mode='noancilla')\n",
    "                    oracle.h(3)  # again H on target qubit\n",
    "                    oracle.x(2)\n",
    "                    oracle.x(3)\n",
    "                    oracle.x(0)\n",
    "                    oracle.x(1)\n",
    "    return oracle"
   ]
  },
  {
   "cell_type": "code",
   "execution_count": 31,
   "metadata": {
    "tags": []
   },
   "outputs": [
    {
     "data": {
      "image/png": "[encoded data removed]",
      "text/plain": [
       "<Figure size 371.107x451.5 with 1 Axes>"
      ]
     },
     "execution_count": 31,
     "metadata": {},
     "output_type": "execute_result"
    }
   ],
   "source": [
    "state=[1,0,1,0] #define the desired state to be marked\n",
    "\n",
    "backend=Aer.get_backend('statevector_simulator') # create the backend\n",
    "grover_circuit=QuantumCircuit(4,4) # initialize the grovers cicuit\n",
    "grover_circuit.h([0,1,2,3])\n",
    "g_orac=QuantumCircuit(4) # initialize the oracle\n",
    "oracle=oracle_4q(g_orac,state) # call the oracle function to mark the state\n",
    "grover_circuit.append(oracle,[0,1,2,3]) # append it to the grovers circuit\n",
    "grover_circuit.draw('mpl')"
   ]
  },
  {
   "cell_type": "code",
   "execution_count": 32,
   "metadata": {
    "tags": []
   },
   "outputs": [],
   "source": [
    "job=execute(grover_circuit,backend) \n",
    "result=job.result() # to get results"
   ]
  },
  {
   "cell_type": "code",
   "execution_count": 33,
   "metadata": {
    "tags": []
   },
   "outputs": [
    {
     "data": {
      "text/plain": [
       "array([ 0.25+0.j,  0.25+0.j,  0.25-0.j,  0.25+0.j,  0.25+0.j,  0.25+0.j,\n",
       "        0.25+0.j,  0.25+0.j,  0.25+0.j,  0.25+0.j, -0.25+0.j,  0.25+0.j,\n",
       "        0.25+0.j,  0.25+0.j,  0.25+0.j,  0.25+0.j])"
      ]
     },
     "execution_count": 33,
     "metadata": {},
     "output_type": "execute_result"
    }
   ],
   "source": [
    "sv= result.get_statevector() # get the vector states of each state\n",
    "np.around(sv,2) # rounding the vector states\n",
    "\n",
    "# notice that this ciruit give the last state |111> as -|111> , which is what the oracle do"
   ]
  },
  {
   "cell_type": "code",
   "execution_count": 34,
   "metadata": {
    "tags": []
   },
   "outputs": [
    {
     "data": {
      "text/plain": [
       "<qiskit.circuit.instructionset.InstructionSet at 0x156edc8e0>"
      ]
     },
     "execution_count": 34,
     "metadata": {},
     "output_type": "execute_result"
    }
   ],
   "source": [
    "# amplitude amplification:\n",
    "reflection = QuantumCircuit(4,name='reflection') \n",
    "reflection.h([0,1,2,3])\n",
    "reflection.x([0,1,2,3])\n",
    "reflection.barrier()\n",
    "\n",
    "#reflection.ccz(0,1,2)\n",
    "reflection.h(3)  # H on target qubit\n",
    "reflection.mcx([0, 1, 2], 3, mode='noancilla')\n",
    "reflection.h(3)  # again H on target qubit\n",
    "\n",
    "reflection.barrier()\n",
    "reflection.h([0,1,2,3])\n"
   ]
  },
  {
   "cell_type": "code",
   "execution_count": 35,
   "metadata": {
    "tags": []
   },
   "outputs": [
    {
     "data": {
      "image/png": "[encoded data removed]",
      "text/plain": [
       "<Figure size 789.163x367.889 with 1 Axes>"
      ]
     },
     "execution_count": 35,
     "metadata": {},
     "output_type": "execute_result"
    }
   ],
   "source": [
    "reflection.draw('mpl')"
   ]
  },
  {
   "cell_type": "code",
   "execution_count": 36,
   "metadata": {
    "tags": []
   },
   "outputs": [
    {
     "data": {
      "image/png": "[encoded data removed]",
      "text/plain": [
       "<Figure size 872.774x451.5 with 1 Axes>"
      ]
     },
     "execution_count": 36,
     "metadata": {},
     "output_type": "execute_result"
    }
   ],
   "source": [
    "backend=Aer.get_backend('qasm_simulator')\n",
    "grover_circuit=QuantumCircuit(4,4)\n",
    "grover_circuit.h([0,1,2,3])\n",
    "\n",
    "g_orac=QuantumCircuit(4,name='Oracle')\n",
    "oracle=oracle_4q(g_orac,state)\n",
    "\n",
    "grover_circuit.append(oracle,[0,1,2,3])\n",
    "grover_circuit.append(reflection,[0,1,2,3])\n",
    "grover_circuit.measure([0,1,2,3],[0,1,2,3])\n",
    "grover_circuit.draw('mpl')"
   ]
  },
  {
   "cell_type": "code",
   "execution_count": 37,
   "metadata": {
    "tags": []
   },
   "outputs": [
    {
     "data": {
      "text/plain": [
       "{'1011': 44,\n",
       " '0011': 43,\n",
       " '0001': 28,\n",
       " '0101': 50,\n",
       " '1001': 43,\n",
       " '0000': 34,\n",
       " '0010': 31,\n",
       " '0111': 38,\n",
       " '1101': 41,\n",
       " '1111': 39,\n",
       " '1010': 462,\n",
       " '1100': 27,\n",
       " '0100': 37,\n",
       " '0110': 42,\n",
       " '1000': 34,\n",
       " '1110': 31}"
      ]
     },
     "execution_count": 37,
     "metadata": {},
     "output_type": "execute_result"
    }
   ],
   "source": [
    "job=execute(grover_circuit,backend,shot=1)\n",
    "result=job.result()\n",
    "result.get_counts()"
   ]
  },
  {
   "cell_type": "markdown",
   "metadata": {},
   "source": [
    "# Max Cut problem"
   ]
  },
  {
   "cell_type": "markdown",
   "metadata": {},
   "source": [
    "Consider the graph depicted above, which consists of five edges in total. Our goal is to color each vertex either blue or red and determine the number of edges connecting vertices of different colors. \n",
    "\n",
    "For instance, in the second example provided, two edges interconnect vertices of distinct colors (blue and red), as illustrated below:\n",
    "\n",
    "<img src=\"images/graphcolor2.png\" width=\"25%\" align=\"center\">\n",
    "\n",
    "Conversely, the subsequent example demonstrates a scenario where four edges connect vertices colored with differing hues, representing the maximum for a graph with four vertices:\n",
    "\n",
    "<img src=\"images/graphcolor1.png\" width=\"25%\" align=\"center\">\n",
    "\n",
    "By systematically examining such configurations, we discern the varying levels of connectivity between vertices of distinct colors, influencing the overall structure and properties of the graph."
   ]
  },
  {
   "cell_type": "markdown",
   "metadata": {},
   "source": [
    "## Definition ##\n",
    "\n",
    "The problem of finding the maximum number of edges so that their endpoints are colored using different colors is known as the **Max-Cut problem**. Alternatively, the aim is to partition the vertices of the graph into two disjoint sets (which is called a cut) such that the number of edges between the two sets is maximal. The size of the cut is defined as the number of edges between two sets. \n",
    "\n",
    "We will focus on the decision version of this problem which is defined as follows:\n",
    "\n",
    "For a given graph \\( G \\), the problem is to determine whether there exists a cut of size at least \\( k \\). \n",
    "\n",
    "It turns out that this problem is challenging (in fact it is **NP**-complete). There are \\( 2^n \\) possible colorings, and so a trivial (brute force) search checks each of these cases in the worst case. Here we show that we can solve this problem faster by using Grover's Search algorithm, approximately by making $\\pi\\sqrt{2^n}/4 \\approx 0.8 \\times 1.414^n$ oracle queries..\n"
   ]
  },
  {
   "cell_type": "markdown",
   "metadata": {},
   "source": [
    "## A simple case: Bipartite graphs\n",
    "\n",
    "A graph is bipartite if the set of vertices can be divided into two disjoint sets such that each edge connects a vertex from the first set with a vertex from the second set. An example is presented below:\n",
    "\n",
    "<img src=\"images/bipartite.png\" width=\"25%\" align=\"center\">\n",
    "\n",
    "We see that vertex 0 and 1 (or 2 and 3) could form such a set. An example of a graph which is not bipartite is given below.\n",
    "\n",
    "<img src=\"images/nonbipartite.png\" width=\"25%\" align=\"center\">\n",
    "We first focus on bipartite graphs before moving on to the general case.\n",
    "\n",
    "Bipartite graphs have unique properties such that they admit a 2-coloring, a coloring using two colors in which the endpoints of all the edges are colored with different colors. Hence, for bipartite graphs, the solution to the Max-Cut problem is simply the total number of edges.\n"
   ]
  },
  {
   "cell_type": "markdown",
   "metadata": {},
   "source": [
    "## Checking bipartiteness\n",
    "\n",
    "We will check whether a graph is bipartite or not by finding a 2-coloring in which the endpoints of all the edges are colored with different colors.\n",
    "\n",
    "We will use the following idea to represent coloring of a graph in a quantum circuit. For a graph with $n$ vertices, we will use $n$ qubits. The $i$'th qubit will encode the color of $i$'th vertex as follows: state $\\ket{0}$ means the vertex has red color, and state $\\ket{1}$ means it has blue color."
   ]
  },
  {
   "cell_type": "markdown",
   "metadata": {},
   "source": [
    "## Step 1\n",
    "\n",
    "Let's implement the idea given above. We have a graph with 4 vertices, and so we have a circuit with 4 qubits. \n",
    "\n",
    "Represent the following coloring of the given graph in the quantum circuit.\n",
    "\n",
    "<img src=\"images/graphcolor1.png\" width=\"25%\" align=\"center\">"
   ]
  },
  {
   "cell_type": "code",
   "execution_count": 38,
   "metadata": {
    "tags": []
   },
   "outputs": [
    {
     "name": "stdout",
     "output_type": "stream",
     "text": [
      "          ┌─┐      \n",
      "q_0: ─────┤M├──────\n",
      "     ┌───┐└╥┘┌─┐   \n",
      "q_1: ┤ X ├─╫─┤M├───\n",
      "     ├───┤ ║ └╥┘┌─┐\n",
      "q_2: ┤ X ├─╫──╫─┤M├\n",
      "     └┬─┬┘ ║  ║ └╥┘\n",
      "q_3: ─┤M├──╫──╫──╫─\n",
      "      └╥┘  ║  ║  ║ \n",
      "c: 4/══╩═══╩══╩══╩═\n",
      "       3   0  1  2 \n",
      "{'0110': 1}\n",
      "Qubit 0 is red\n",
      "Qubit 1 is blue\n",
      "Qubit 2 is blue\n",
      "Qubit 3 is red\n"
     ]
    }
   ],
   "source": [
    "from qiskit import QuantumCircuit, Aer, execute\n",
    "\n",
    "# Define the number of qubits\n",
    "num_qubits = 4\n",
    "\n",
    "# Create a quantum circuit\n",
    "circuit = QuantumCircuit(num_qubits, num_qubits)\n",
    "\n",
    "# Apply X gate to qubits 1 and 2\n",
    "circuit.x(1)\n",
    "circuit.x(2)\n",
    "\n",
    "# Measure all qubits\n",
    "circuit.measure(range(num_qubits), range(num_qubits))\n",
    "\n",
    "# Print the circuit\n",
    "print(circuit)\n",
    "\n",
    "# Simulate the circuit\n",
    "simulator = Aer.get_backend('qasm_simulator')\n",
    "result = execute(circuit, simulator, shots=1).result()\n",
    "counts = result.get_counts()\n",
    "print(counts)\n",
    "\n",
    "# Decode the solution\n",
    "for bitstring in counts:\n",
    "    for qubit, value in enumerate(reversed(bitstring)):\n",
    "        color = 'blue' if value == '1' else 'red'\n",
    "        print(f\"Qubit {qubit} is {color}\")\n",
    "    break  # break after printing the first bitstring for this example\n",
    "  "
   ]
  },
  {
   "cell_type": "markdown",
   "metadata": {},
   "source": [
    "## Edge checking \n",
    "\n",
    "Next, we will implement a protocol which checks whether an edge has endpoints with different colors. For each edge, we will use a separate qubit, on which we will store a Boolean value: \\( \\vert 1 \\rangle \\) if the edge connects vertices with different colors, and \\( \\vert 0 \\rangle \\), otherwise.\n",
    "\n",
    "We use the XOR function \\( \\oplus \\):\n",
    "\n",
    "We use the XOR function $\\oplus$:\n",
    "$$\n",
    "x \\oplus y = \\begin{cases}\n",
    "1, & x \\neq y \\\\\n",
    "0, & x = y \\\\\n",
    "\\end{cases}\n",
    "$$\n",
    "where $x$ and $y$ are the colors of vertices and the result is the Boolean value of the edge connecting them.\n",
    "\n",
    "\n",
    "We can easily implement \\( x \\oplus y = z \\) by using two \\( CNOT \\) gates as given below.\n"
   ]
  },
  {
   "cell_type": "code",
   "execution_count": 39,
   "metadata": {
    "tags": []
   },
   "outputs": [
    {
     "name": "stdout",
     "output_type": "stream",
     "text": [
      "               \n",
      "q_0: ──■───────\n",
      "       │       \n",
      "q_1: ──┼────■──\n",
      "     ┌─┴─┐┌─┴─┐\n",
      "q_2: ┤ X ├┤ X ├\n",
      "     └───┘└───┘\n"
     ]
    }
   ],
   "source": [
    "from qiskit import QuantumCircuit\n",
    "\n",
    "# Define the number of qubits\n",
    "num_qubits = 3\n",
    "circuit = QuantumCircuit(num_qubits)\n",
    "circuit.cx(0, 2)\n",
    "circuit.cx(1, 2)\n",
    "print(circuit.draw())"
   ]
  },
  {
   "cell_type": "markdown",
   "metadata": {},
   "source": [
    "Here the first two qubits are $x$ and $y$, and $z$ is the third qubit. \n",
    "\n",
    "Let’s verify the correctness of the above circuit by checking all possible coloring (inputs).\n"
   ]
  },
  {
   "cell_type": "code",
   "execution_count": 40,
   "metadata": {
    "tags": []
   },
   "outputs": [
    {
     "name": "stdout",
     "output_type": "stream",
     "text": [
      "\n",
      "First vertex is set to  0\n",
      "Second vertex is set to  0\n",
      "                  \n",
      "q_0: ──■──────────\n",
      "       │          \n",
      "q_1: ──┼────■─────\n",
      "     ┌─┴─┐┌─┴─┐┌─┐\n",
      "q_2: ┤ X ├┤ X ├┤M├\n",
      "     └───┘└───┘└╥┘\n",
      "c: 1/═══════════╩═\n",
      "                0 \n",
      "Edge connects the same colors. Output: 0\n",
      "\n",
      "First vertex is set to  0\n",
      "Second vertex is set to  1\n",
      "                       \n",
      "q_0: ───────■──────────\n",
      "     ┌───┐  │          \n",
      "q_1: ┤ X ├──┼────■─────\n",
      "     └───┘┌─┴─┐┌─┴─┐┌─┐\n",
      "q_2: ─────┤ X ├┤ X ├┤M├\n",
      "          └───┘└───┘└╥┘\n",
      "c: 1/════════════════╩═\n",
      "                     0 \n",
      "Edge connects different colors. Output: 1\n",
      "\n",
      "First vertex is set to  1\n",
      "Second vertex is set to  0\n",
      "     ┌───┐             \n",
      "q_0: ┤ X ├──■──────────\n",
      "     └───┘  │          \n",
      "q_1: ───────┼────■─────\n",
      "          ┌─┴─┐┌─┴─┐┌─┐\n",
      "q_2: ─────┤ X ├┤ X ├┤M├\n",
      "          └───┘└───┘└╥┘\n",
      "c: 1/════════════════╩═\n",
      "                     0 \n",
      "Edge connects different colors. Output: 1\n",
      "\n",
      "First vertex is set to  1\n",
      "Second vertex is set to  1\n",
      "     ┌───┐             \n",
      "q_0: ┤ X ├──■──────────\n",
      "     ├───┤  │          \n",
      "q_1: ┤ X ├──┼────■─────\n",
      "     └───┘┌─┴─┐┌─┴─┐┌─┐\n",
      "q_2: ─────┤ X ├┤ X ├┤M├\n",
      "          └───┘└───┘└╥┘\n",
      "c: 1/════════════════╩═\n",
      "                     0 \n",
      "Edge connects the same colors. Output: 0\n"
     ]
    }
   ],
   "source": [
    "from qiskit import QuantumCircuit, Aer, execute\n",
    "\n",
    "# Create a simulator\n",
    "simulator = Aer.get_backend('qasm_simulator')\n",
    "\n",
    "for a in range(2):\n",
    "    for b in range(2):\n",
    "        print()\n",
    "        print(\"First vertex is set to \", a)\n",
    "        print(\"Second vertex is set to \", b)\n",
    "        \n",
    "        # Create a quantum circuit\n",
    "        circuit = QuantumCircuit(3, 1)\n",
    "        \n",
    "        # encoding coloring\n",
    "        if a == 1:\n",
    "            circuit.x(0)\n",
    "        if b == 1:\n",
    "            circuit.x(1)\n",
    "\n",
    "        # edge checking\n",
    "        circuit.cx(0, 2)\n",
    "        circuit.cx(1, 2)\n",
    "        circuit.measure(2, 0)\n",
    "        \n",
    "        # Run the circuit\n",
    "        result = execute(circuit, simulator, shots=1).result()\n",
    "        counts = result.get_counts(circuit)\n",
    "        \n",
    "        print(circuit)\n",
    "        \n",
    "        # Decode the result\n",
    "        output = int(list(counts.keys())[0])  # Extract the measurement result\n",
    "        \n",
    "        if output == 1:\n",
    "            print(\"Edge connects different colors. Output:\", output)\n",
    "        else:\n",
    "            print(\"Edge connects the same colors. Output:\", output)\n"
   ]
  },
  {
   "cell_type": "markdown",
   "metadata": {},
   "source": [
    "## Designing an oracle for checking bipartiteness\n",
    "\n",
    "In Grover's Algorithm, our aim is to find an element marked by the oracle. If we have an oracle detecting any edge connecting two differently colored vertices, then we can use Grover's search to find such colorings (if exists) which \"marks\" colorings in which the endpoints of all the edges are colored using a different color, then we can use Grover's search to find such colorings (if such a coloring exists). Therefore, we need to define an oracle which will check and \"mark\" colorings which satisfy this property. \n",
    "\n",
    "As we described above, we use separate qubits for each vertex and for each edge. The states of the qubits corresponding to vertices represent the colorings. The input to the oracle are the qubits representing the vertices, and the rest of the qubits are used by the oracle. Before the oracle starts its computation, all qubits representing the edges and the output qubit are in $ \\ket{0}$ state, and they should also be in $\\ket{0} $ state at the end to be used again for the next oracle call.\n",
    "\n",
    "We can summarize the computation by the oracle in four steps:\n",
    "\n",
    "1. By using the XOR operator, we assign the appropriate Boolean value for each edge. \n",
    "2. Then, we use an additional output qubit, which is set to 1 if each edge has the value of 1, i.e., each edge connects two vertices with different colors. This part can be implemented by a multi-controlled $NOT$ operator (flip the value of target qubit only if all controlled qubits are in states $\\ket{1}$). "
   ]
  },
  {
   "cell_type": "markdown",
   "metadata": {},
   "source": [
    "### Step 2\n",
    "\n",
    "For the given graph below, we will implement the first two steps of the oracle described above. \n",
    "\n",
    "The first four qubits are used for vertices.\n",
    "\n",
    "The next three qubits are used for edges.\n",
    "\n",
    "The last qubit is used for the output.\n",
    "\n",
    "Taking into account that the last qubit should be in state $ \\ket{1} $ (resp., $\\ket{0}$) if the coloring of the vertices is correct (resp., incorrect).\n",
    "\n",
    "Test your implementation with different colorings.\n",
    "\n",
    "<img src=\"images/bipartite.png\" width=\"25%\" align=\"center\">"
   ]
  },
  {
   "cell_type": "code",
   "execution_count": 41,
   "metadata": {
    "tags": []
   },
   "outputs": [
    {
     "name": "stdout",
     "output_type": "stream",
     "text": [
      "Measurement output:  1\n",
      "Correct coloring (graph is bipartite)\n",
      "     ┌───┐                                      \n",
      "q_0: ┤ X ├──■──────────────■────────────────────\n",
      "     ├───┤  │              │                    \n",
      "q_1: ┤ X ├──┼────■─────────┼────────────────────\n",
      "     └───┘  │    │         │                    \n",
      "q_2: ───────┼────┼────■────┼────────────────────\n",
      "            │    │    │    │                    \n",
      "q_3: ───────┼────┼────┼────┼────■────■──────────\n",
      "          ┌─┴─┐  │  ┌─┴─┐  │    │    │          \n",
      "q_4: ─────┤ X ├──┼──┤ X ├──┼────┼────┼────■─────\n",
      "          └───┘  │  └───┘┌─┴─┐┌─┴─┐  │    │     \n",
      "q_5: ────────────┼───────┤ X ├┤ X ├──┼────■─────\n",
      "               ┌─┴─┐     └───┘└───┘┌─┴─┐  │     \n",
      "q_6: ──────────┤ X ├───────────────┤ X ├──■─────\n",
      "               └───┘               └───┘┌─┴─┐┌─┐\n",
      "q_7: ───────────────────────────────────┤ X ├┤M├\n",
      "                                        └───┘└╥┘\n",
      "c: 1/═════════════════════════════════════════╩═\n",
      "                                              0 \n"
     ]
    }
   ],
   "source": [
    "# Define the number of qubits\n",
    "num_qubits = 8\n",
    "\n",
    "# Create a quantum circuit\n",
    "circuit = QuantumCircuit(num_qubits, 1)\n",
    "\n",
    "# Correct coloring\n",
    "circuit.x(0)\n",
    "circuit.x(1)\n",
    "\n",
    "# Incorrect coloring\n",
    "# circuit.x(0)\n",
    "\n",
    "# Check 0-2 edge and store at 4th qubit\n",
    "circuit.cx(0, 4)\n",
    "circuit.cx(2, 4)\n",
    "# Check 0-3 edge and store at 5th qubit\n",
    "circuit.cx(0, 5)\n",
    "circuit.cx(3, 5)\n",
    "# Check 1-3 edge and store at 6th qubit\n",
    "circuit.cx(1, 6)\n",
    "circuit.cx(3, 6)\n",
    "\n",
    "# Check all edge qubits\n",
    "circuit.mcx([4, 5, 6], 7)\n",
    "\n",
    "# Measure qubits\n",
    "circuit.measure(7, 0)\n",
    "\n",
    "# Execute the circuit\n",
    "result = execute(circuit, simulator, shots=1).result()\n",
    "counts = result.get_counts(circuit)\n",
    "\n",
    "# Decode the result\n",
    "output = int(list(counts.keys())[0])\n",
    "\n",
    "print(\"Measurement output: \", output)\n",
    "if output == 1:\n",
    "    print(\"Correct coloring (graph is bipartite)\")\n",
    "else:\n",
    "    print(\"Incorrect coloring\")\n",
    "\n",
    "print(circuit.draw())\n"
   ]
  },
  {
   "cell_type": "markdown",
   "metadata": {},
   "source": [
    "Let's continue with the remaining steps of the oracle.\n",
    "\n",
    "3. The oracle flips the sign of the amplitude of the states which lead to $ \\ket{1} $ as the output. This can be easily done by applying a $Z$ gate: when in state $\\ket{1}$, the sign is flipped, and it does not change, otherwise. \n",
    "4. We reverse the whole computation done in the first 2 steps so that the oracle leaves all the qubits used in the computation in state $\\ket{0}$. This can be done by reversing every quantum operator before the $Z$ gate. (In Cirq, the method “inverse” can be used.) In this way, the only effect of the oracle is flipping the amplitude of the sign of the qubits representing the correct coloring.\n",
    "\n",
    "Now, our oracle is ready to be used as a part of Grover’s search algorithm. \n",
    "\n",
    "In the following code, we apply the oracle once and observe its effect. We start with an equal superposition of all possible coloring for the vertices (the first qubits)."
   ]
  },
  {
   "cell_type": "code",
   "execution_count": 42,
   "metadata": {
    "tags": []
   },
   "outputs": [
    {
     "name": "stdout",
     "output_type": "stream",
     "text": [
      "00000000 (0.25000000000000006+0j)\n",
      "00000001 (0.25000000000000006+0j)\n",
      "00000010 (0.25000000000000006+0j)\n",
      "00000100 (0.25000000000000006+0j)\n",
      "00000101 (0.25+0j)\n",
      "00000110 (0.25+0j)\n",
      "00000111 (0.24999999999999994+0j)\n",
      "00001000 (0.25000000000000006+0j)\n",
      "00001001 (0.25+0j)\n",
      "00001010 (0.25+0j)\n",
      "00001011 (0.24999999999999994+0j)\n",
      "00001101 (0.24999999999999994+0j)\n",
      "00001110 (0.24999999999999994+0j)\n",
      "00001111 (0.24999999999999992+0j)\n",
      "10000011 (-0.25+0j)\n",
      "10001100 (-0.25+0j)\n"
     ]
    }
   ],
   "source": [
    "# Define the number of qubits\n",
    "num_qubits = 8\n",
    "\n",
    "# Create the quantum circuit\n",
    "qc = QuantumCircuit(num_qubits)\n",
    "\n",
    "# Apply Hadamard gate to qubits 0 to 3\n",
    "for qubit in range(4):\n",
    "    qc.h(qubit)\n",
    "\n",
    "# Define the oracle operation\n",
    "def oracle(qc):\n",
    "    # check 0-2 edge and store at 4th qubit\n",
    "    qc.cx(0, 4)\n",
    "    qc.cx(2, 4)\n",
    "    # check 0-3 edge and store at 5th qubit\n",
    "    qc.cx(0, 5)\n",
    "    qc.cx(3, 5)\n",
    "    # check 1-3 edge and store at 6th qubit\n",
    "    qc.cx(1, 6)\n",
    "    qc.cx(3, 6)\n",
    "\n",
    "    # check all edge qubits\n",
    "    qc.mcx([4, 5, 6], 7)\n",
    "\n",
    "# Apply the oracle operation\n",
    "oracle(qc)\n",
    "qc.z(7)\n",
    "oracle(qc)\n",
    "\n",
    "import numpy as np\n",
    "\n",
    "# Simulate the circuit\n",
    "backend = Aer.get_backend('statevector_simulator')\n",
    "job = execute(qc, backend)\n",
    "result = job.result()\n",
    "quantum_state = result.get_statevector()\n",
    "\n",
    "# Convert the Statevector object to a NumPy array\n",
    "quantum_state_array = np.asarray(quantum_state)\n",
    "\n",
    "# Print the non-zero amplitudes and corresponding basis states\n",
    "for i in range(len(quantum_state_array)):\n",
    "    if abs(quantum_state_array[i]) > 1e-10:  # Consider only non-zero amplitudes\n",
    "        print(format(i, 'b').zfill(num_qubits), quantum_state_array[i])\n"
   ]
  },
  {
   "cell_type": "markdown",
   "metadata": {},
   "source": [
    "Note several important things here. The last four qubits are set to zero: these are edge checking and output qubit, and since they are set to zero, we can reuse them in further computation.\n",
    "\n",
    "As observed from the outcome, only the sign of the following states are flipped:\n",
    "$$\n",
    "\t\\ket{0011}\\ket{0000} \\mbox{ and } \\ket{1100}\\ket{0000}.\n",
    "$$\n",
    "\n",
    "In the first case, the vertices 0 and 1 are colored blue and the vertices 2 and 3 are colored red. In the second case, the first pair is colored red and the second one colored blue.\n"
   ]
  },
  {
   "cell_type": "markdown",
   "metadata": {},
   "source": [
    "### Problem 1\n",
    "\n",
    "\n",
    "For the given graphs below, we will iterate Grover’s search algorithm 2 steps to find the correct colorings. (There are indeed $k=2$ possible colorings, and so the oracle should be applied $\\frac{\\pi}{4}\\sqrt{\\frac{2^4}{k}}\\approx 2$ times.) \n",
    "\n",
    "We will use nine qubits: 4 for vertices, 4 for edges, and 1 for the output qubit.\n",
    "\n",
    "The diffusion operator is provided below.\n",
    "\n",
    "We will observe which outcomes have the higher frequencies.\n",
    "\n",
    "\n",
    "<img src=\"images/completebipartite.png\" width=\"25%\" align=\"center\">"
   ]
  },
  {
   "cell_type": "code",
   "execution_count": 43,
   "metadata": {
    "tags": []
   },
   "outputs": [
    {
     "name": "stdout",
     "output_type": "stream",
     "text": [
      "{'0010': 39, '0111': 40, '1110': 39, '0110': 38, '1011': 45, '0011': 228, '0001': 41, '1100': 226, '0100': 36, '0000': 33, '0101': 38, '1101': 35, '1111': 32, '1000': 38, '1010': 53, '1001': 39}\n"
     ]
    }
   ],
   "source": [
    "# Define the edge check operation\n",
    "def edge_check(qc, a, b, c):\n",
    "    qc.cx(a, c)\n",
    "    qc.cx(b, c)\n",
    "\n",
    "# Define the oracle operation\n",
    "def oracle(qc, qubits):\n",
    "    # check 0-2 edge and store at 4th qubit\n",
    "    edge_check(qc, qubits[0], qubits[2], qubits[4])\n",
    "    # check 0-3 edge and store at 5th qubit\n",
    "    edge_check(qc, qubits[0], qubits[3], qubits[5])\n",
    "    # check 1-2 edge and store at 6th qubit\n",
    "    edge_check(qc, qubits[1], qubits[2], qubits[6])\n",
    "    # check 1-3 edge and store at 7th qubit\n",
    "    edge_check(qc, qubits[1], qubits[3], qubits[7])\n",
    "\n",
    "    # check all edge qubits\n",
    "    qc.mcx(list(qubits[4:8]), qubits[8])\n",
    "\n",
    "\n",
    "# Define the oracle computation\n",
    "def oracle_computation(qc, qubits):\n",
    "    oracle(qc, qubits)\n",
    "    qc.z(qubits[8])\n",
    "    oracle(qc, qubits)\n",
    "\n",
    "# Define the Grover diffusion operation\n",
    "def grover_diffusion(qc, qubits):\n",
    "    qc.h(qubits)\n",
    "    qc.x(qubits)\n",
    "    qc.h(qubits[3])\n",
    "    qc.mcx(list(qubits[0:3]), qubits[3])\n",
    "    qc.h(qubits[3])\n",
    "    qc.x(qubits)\n",
    "    qc.h(qubits)\n",
    "\n",
    "# Define the quantum circuit\n",
    "qc = QuantumCircuit(9, 4)\n",
    "# Apply Hadamard gate to qubits 0 to 3\n",
    "for qubit in range(4):\n",
    "    qc.h(qubit)\n",
    "\n",
    "# Apply oracle and diffusion operations\n",
    "for _ in range(2):\n",
    "    oracle_computation(qc, range(9))\n",
    "    grover_diffusion(qc, range(9))\n",
    "\n",
    "# Measure qubits 0 to 3\n",
    "qc.measure(qc.qubits[0:4], qc.clbits[0:4])\n",
    "\n",
    "\n",
    "# Simulate the quantum circuit\n",
    "backend = Aer.get_backend('qasm_simulator')\n",
    "compiled_circuit = transpile(qc, backend)\n",
    "qobj = assemble(compiled_circuit)\n",
    "shots = 1000  # Set the number of shots or repetitions\n",
    "result = backend.run(compiled_circuit, shots=shots).result()\n",
    "counts = result.get_counts()\n",
    "print(counts)\n"
   ]
  },
  {
   "cell_type": "markdown",
   "metadata": {},
   "source": [
    "* Note that the states '0011' and '1100' are the most commonly observed states."
   ]
  },
  {
   "cell_type": "markdown",
   "metadata": {},
   "source": [
    "### Problem 2\n",
    "\n",
    "We will repeat Problem 1 for the following graph.\n",
    "\n",
    "\n",
    "<img src=\"images/nonbipartite.png\" width=\"25%\" align=\"center\">"
   ]
  },
  {
   "cell_type": "code",
   "execution_count": 44,
   "metadata": {
    "tags": []
   },
   "outputs": [
    {
     "name": "stdout",
     "output_type": "stream",
     "text": [
      "{'000000111': 628, '000000101': 601, '000001000': 614, '000001101': 640, '000001111': 617, '000000010': 590, '000000000': 625, '000000110': 660, '000000011': 614, '000000001': 647, '000001001': 641, '000001011': 640, '000000100': 613, '000001100': 598, '000001110': 629, '000001010': 643}\n"
     ]
    }
   ],
   "source": [
    "\n",
    "num_qubits = 9\n",
    "\n",
    "# Create a QuantumCircuit\n",
    "qc = QuantumCircuit(num_qubits, num_qubits)\n",
    "\n",
    "# Define the range of qubits\n",
    "qq = range(num_qubits)\n",
    "\n",
    "# Define edge_check function\n",
    "def edge_check(a, b, c):\n",
    "    qc.cx(qq[a], qq[c])\n",
    "    qc.cx(qq[b], qq[c])\n",
    "\n",
    "# Define oracle_computation function\n",
    "def oracle_computation():\n",
    "    # check 0-1 edge and store at 4th qubit\n",
    "    edge_check(0, 1, 4)\n",
    "    # check 0-2 edge and store at 5th qubit\n",
    "    edge_check(0, 2, 5)\n",
    "    # check 0-3 edge and store at 6th qubit\n",
    "    edge_check(0, 3, 6)\n",
    "    # check 1-3 edge and store at 7th qubit\n",
    "    edge_check(1, 3, 7)\n",
    "\n",
    "    # check all edge qubits\n",
    "    qc.x(qq[8]).c_if(qq[4], 1)\n",
    "    qc.x(qq[8]).c_if(qq[5], 1)\n",
    "    qc.x(qq[8]).c_if(qq[6], 1)\n",
    "    qc.x(qq[8]).c_if(qq[7], 1)\n",
    "\n",
    "# Define oracle function\n",
    "def oracle():\n",
    "    oracle_computation()\n",
    "    qc.z(qq[8])\n",
    "    oracle_computation()\n",
    "\n",
    "# Define grover_diffusion function\n",
    "def grover_diffusion():\n",
    "    qc.h(qq[0:4])\n",
    "    qc.x(qq[0:4])\n",
    "    qc.h(qq[3])\n",
    "    qc.mcx(list(qq[0:3]), qq[3])  # Convert range to list\n",
    "    qc.h(qq[3])\n",
    "    qc.x(qq[0:4])\n",
    "\n",
    "\n",
    "# Apply operations to the circuit\n",
    "qc.h(qq[0:4])\n",
    "for _ in range(2):\n",
    "    oracle()\n",
    "    grover_diffusion()\n",
    "\n",
    "# Measure qubits\n",
    "qc.measure(qq[0:4], qq[0:4])\n",
    "\n",
    "# Execute the circuit\n",
    "simulator = Aer.get_backend('qasm_simulator')\n",
    "result = execute(qc, simulator, shots=10000).result()\n",
    "counts = result.get_counts(qc)\n",
    "print(counts)\n"
   ]
  },
  {
   "cell_type": "markdown",
   "metadata": {},
   "source": [
    "* We observe that all strings have almost the same occurence. The reason is that there is no correct coloring."
   ]
  },
  {
   "cell_type": "markdown",
   "metadata": {
    "tags": []
   },
   "source": [
    "## Conclussion\n",
    "\n",
    "In conclusion, we have implemented Grover's search algorithm to determine the 2-coloring of a graph, which helps us ascertain whether the graph is bipartite. When the graph is bipartite, solving the Max-Cut problem for it becomes straightforward.\n",
    "\n",
    "It's important to note that our algorithm requires  $O(\\sqrt{2^n})$ steps, while the problem can be solved classically in $O(n^2)$ steps. However, we view this application as a pedagogical example of designing an oracle and applying Grover’s search algorithm to a well-known graph problem."
   ]
  },
  {
   "cell_type": "markdown",
   "metadata": {},
   "source": [
    "* Reference - Qworld (QNickel Workshop) [https://qworld.net/qeducation/]\n",
    "Remark: Max-cut problem was done in Qworld's QNickel workshop using cirq. We have implemented it using Qiskit in this jupyter notebook."
   ]
  }
 ],
 "metadata": {
  "kernelspec": {
   "display_name": "Python 3 (ipykernel)",
   "language": "python",
   "name": "python3"
  },
  "language_info": {
   "codemirror_mode": {
    "name": "ipython",
    "version": 3
   },
   "file_extension": ".py",
   "mimetype": "text/x-python",
   "name": "python",
   "nbconvert_exporter": "python",
   "pygments_lexer": "ipython3",
   "version": "3.11.5"
  }
 },
 "nbformat": 4,
 "nbformat_minor": 4
}
